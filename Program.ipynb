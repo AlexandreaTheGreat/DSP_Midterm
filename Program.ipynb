{
 "cells": [
  {
   "cell_type": "code",
   "execution_count": 158,
   "metadata": {},
   "outputs": [],
   "source": [
    "from pydub import AudioSegment, playback\n",
    "import numpy as np\n",
    "\n",
    "def change_pitch(sound, semitones):\n",
    "    semitone_ratio = 2 ** (semitones / 12.0)\n",
    "    \n",
    "    # Pitch shift using interpolation\n",
    "    samples = np.array(sound.get_array_of_samples())\n",
    "    pitch_shifted_samples = np.interp(\n",
    "        np.arange(0, len(samples), semitone_ratio),\n",
    "        np.arange(0, len(samples)), samples).astype(np.int16)\n",
    "    \n",
    "    # Create a new sound with the same parameters\n",
    "    new_sound = AudioSegment(\n",
    "        pitch_shifted_samples.tobytes(),\n",
    "        frame_rate=sound.frame_rate,\n",
    "        sample_width=sound.sample_width,\n",
    "        channels=sound.channels\n",
    "    )\n",
    "    \n",
    "    return new_sound\n",
    "\n",
    "def main():\n",
    "    audio_file = \"C:/Users/ALEXANDREA/Downloads/10.wav\"\n",
    "    sound = AudioSegment.from_file(audio_file)\n",
    "    semitones_shift = 1\n",
    "\n",
    "    high_pitch_sound = change_pitch(sound, semitones_shift)\n",
    "\n",
    "    output_file = \"C:/Users/ALEXANDREA/Downloads/Eli (modified)/output10.wav\"\n",
    "    high_pitch_sound.export(output_file, format=\"wav\")\n",
    "\n",
    "if __name__ == \"__main__\":\n",
    "    main()"
   ]
  },
  {
   "cell_type": "code",
   "execution_count": null,
   "metadata": {},
   "outputs": [],
   "source": []
  },
  {
   "cell_type": "code",
   "execution_count": null,
   "metadata": {},
   "outputs": [],
   "source": []
  }
 ],
 "metadata": {
  "kernelspec": {
   "display_name": "Python 3 (ipykernel)",
   "language": "python",
   "name": "python3"
  },
  "language_info": {
   "codemirror_mode": {
    "name": "ipython",
    "version": 3
   },
   "file_extension": ".py",
   "mimetype": "text/x-python",
   "name": "python",
   "nbconvert_exporter": "python",
   "pygments_lexer": "ipython3",
   "version": "3.10.4"
  }
 },
 "nbformat": 4,
 "nbformat_minor": 2
}
